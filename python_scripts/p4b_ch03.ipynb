{
 "cells": [
  {
   "cell_type": "code",
   "execution_count": 12,
   "metadata": {
    "collapsed": false
   },
   "outputs": [
    {
     "data": {
      "text/plain": [
       "28"
      ]
     },
     "execution_count": 12,
     "metadata": {},
     "output_type": "execute_result"
    }
   ],
   "source": [
    "#open and read the file\n",
    "gen_file= open(\"genomic_dna.txt\")\n",
    "contents= gen_file.read()\n",
    "gen_seq=contents.rstrip(\"\\n\")\n",
    "\n",
    "#extract the exons\n",
    "exon1=(gen_seq[0:62])\n",
    "exon2=(gen_seq[90:500])\n",
    "\n",
    "#extract the intron\n",
    "intron=(gen_seq[62:90])\n",
    "\n",
    "#copy the exons and intron to seperate files\n",
    "exons=open(\"exon.txt\",\"w\")\n",
    "exons.write(exon1+exon2)\n",
    "\n",
    "itrn=open(\"intron.txt\",\"w\")\n",
    "itrn.write(intron)\n",
    "\n",
    "exons.close()\n",
    "itrn.close()\n"
   ]
  },
  {
   "cell_type": "code",
   "execution_count": 3,
   "metadata": {
    "collapsed": false
   },
   "outputs": [],
   "source": [
    "head1=('>ABC123')\n",
    "head2=('>DEF456')\n",
    "head3=('>HIJ789')\n",
    "seq1=('ATCGTACGATCGATCGATCGCTAGACGTATCG')\n",
    "seq2=('actgatcgacgatcgatcgatcacgact')\n",
    "seq3=('ACTGAC-ACTGT--ACTGTA----CATGTG')\n",
    "\n",
    "#capitalize seq2\n",
    "upper_seq2= seq2.upper()\n",
    "\n",
    "#remove dashes from seq3\n",
    "no_dash_seq3= seq3.replace(\"-\",\"\")\n",
    "\n",
    "#separate into parts\n",
    "part1=(head1+'\\n'+seq1+'\\n')\n",
    "part2=(head2+'\\n'+upper_seq2+'\\n')\n",
    "part3=(head3+'\\n'+no_dash_seq3)\n",
    "\n",
    "\n",
    "#create file\n",
    "fasta=open('my_dna.fasta','w')\n",
    "fasta.write(part1+part2+part3)\n",
    "\n",
    "fasta.close()"
   ]
  },
  {
   "cell_type": "code",
   "execution_count": 5,
   "metadata": {
    "collapsed": false
   },
   "outputs": [],
   "source": [
    "fasta1=open('abc123.fasta','w')\n",
    "fasta1.write(part1)\n",
    "\n",
    "fasta2=open(\"def456.fasta\",'w')\n",
    "fasta2.write(part2)\n",
    "\n",
    "fasta3=open('hij789.fasta',\"w\")\n",
    "fasta3.write(part3)\n",
    "\n",
    "fasta1.close()\n",
    "fasta2.close()\n",
    "fasta3.close()"
   ]
  },
  {
   "cell_type": "code",
   "execution_count": null,
   "metadata": {
    "collapsed": true
   },
   "outputs": [],
   "source": []
  }
 ],
 "metadata": {
  "kernelspec": {
   "display_name": "Python 3",
   "language": "python",
   "name": "python3"
  },
  "language_info": {
   "codemirror_mode": {
    "name": "ipython",
    "version": 3
   },
   "file_extension": ".py",
   "mimetype": "text/x-python",
   "name": "python",
   "nbconvert_exporter": "python",
   "pygments_lexer": "ipython3",
   "version": "3.6.0"
  }
 },
 "nbformat": 4,
 "nbformat_minor": 2
}
