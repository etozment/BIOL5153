{
 "cells": [
  {
   "cell_type": "code",
   "execution_count": 8,
   "metadata": {
    "collapsed": false
   },
   "outputs": [
    {
     "name": "stdout",
     "output_type": "stream",
     "text": [
      "0.45\n",
      "0.53\n",
      "0.0\n"
     ]
    }
   ],
   "source": [
    "def get_at_content(dna):\n",
    "    length = len(dna)\n",
    "    a_count = dna.count('A')\n",
    "    t_count = dna.count('T')\n",
    "    at_content = ((a_count + t_count) / length)\n",
    "    return at_content\n",
    "my_at_content = get_at_content(\"ATGCGCGATCGATCGAATCG\")\n",
    "print(my_at_content)\n",
    "print(round(get_at_content(\"ATGCATGCAACTGTAGC\"),2))\n",
    "print(get_at_content(\"aactgtagctagctagcagcgta\"))"
   ]
  },
  {
   "cell_type": "code",
   "execution_count": 8,
   "metadata": {
    "collapsed": false
   },
   "outputs": [],
   "source": [
    "#name function and declare aa sequence and residue\n",
    "def aa_content (aa_seq, aa):\n",
    "    aa_seq=aa_seq.upper()\n",
    "    aa=aa.upper()\n",
    "\n",
    "#find percent of sequence occupied by the residue\n",
    "    aa_cont=(aa_seq.count(aa)/len(aa_seq)*100)\n",
    "    return aa_cont\n",
    "\n",
    "assert aa_content (\"MSRSLLLRFLLFLLLLPPLP\", \"M\") == 5\n",
    "assert aa_content(\"MSRSLLLRFLLFLLLLPPLP\", \"r\") == 10\n",
    "assert aa_content(\"msrslllrfllfllllpplp\", \"L\") == 50\n",
    "assert aa_content(\"MSRSLLLRFLLFLLLLPPLP\", \"Y\") == 0"
   ]
  },
  {
   "cell_type": "code",
   "execution_count": 40,
   "metadata": {
    "collapsed": false
   },
   "outputs": [],
   "source": [
    "def prot_content (protein, aa_res=['A', 'I', 'L', 'M', 'F', 'W', 'Y', 'V']):\n",
    "    #capitalize everything\n",
    "    protein=protein.upper()\n",
    "\n",
    "    #read through the list, one item at a time\n",
    "    aa_count=0\n",
    "    for item in aa_res:\n",
    "        item=item.upper()\n",
    "        aa_count=aa_count+protein.count(item)\n",
    "    #find amino acid content\n",
    "    prot_cont=aa_count/len(protein)*100\n",
    "    return round(prot_cont,2)\n",
    "#print (len(protein))\n",
    "#print ((protein.count('L')+protein.count('M'))/len(protein)*100)\n",
    "#test with assertions\n",
    "\n",
    "assert prot_content(\"MSRSLLLRFLLFLLLLPPLP\", [\"M\"]) == 5\n",
    "assert prot_content(\"MSRSLLLRFLLFLLLLPPLP\", ['L','M']) == 55\n",
    "assert prot_content(\"MSRSLLLRFLLFLLLLPPLP\", ['F', 'S', 'L']) == 70\n",
    "assert prot_content(\"MSRSLLLRFLLFLLLLPPLP\") == 65\n"
   ]
  },
  {
   "cell_type": "code",
   "execution_count": null,
   "metadata": {
    "collapsed": true
   },
   "outputs": [],
   "source": []
  },
  {
   "cell_type": "code",
   "execution_count": null,
   "metadata": {
    "collapsed": true
   },
   "outputs": [],
   "source": []
  }
 ],
 "metadata": {
  "kernelspec": {
   "display_name": "Python 3",
   "language": "python",
   "name": "python3"
  },
  "language_info": {
   "codemirror_mode": {
    "name": "ipython",
    "version": 3
   },
   "file_extension": ".py",
   "mimetype": "text/x-python",
   "name": "python",
   "nbconvert_exporter": "python",
   "pygments_lexer": "ipython3",
   "version": "3.6.0"
  }
 },
 "nbformat": 4,
 "nbformat_minor": 2
}
