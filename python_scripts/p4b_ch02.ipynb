{
 "cells": [
  {
   "cell_type": "code",
   "execution_count": 11,
   "metadata": {
    "collapsed": false
   },
   "outputs": [
    {
     "name": "stdout",
     "output_type": "stream",
     "text": [
      "AT content is 0.6851851851851852.\n"
     ]
    }
   ],
   "source": [
    "my_dna= 'ACTGATCGATTACGTATAGTATTTGCTATCATACATATATATCGATGCGTTCAT'\n",
    "#store As, Ts, and length in varibles\n",
    "length=len(my_dna)\n",
    "a_count=my_dna.count('A')\n",
    "t_count=my_dna.count('T')\n",
    "\n",
    "#calculate AT content\n",
    "at_con=(a_count+t_count)/length\n",
    "print('AT content is '+str(at_con)+'.')\n"
   ]
  },
  {
   "cell_type": "code",
   "execution_count": 16,
   "metadata": {
    "collapsed": false
   },
   "outputs": [
    {
     "name": "stdout",
     "output_type": "stream",
     "text": [
      "ACTGATCGATTACGTATAGTATTTGCTATCATACATATATATCGATGCGTTCAT\n",
      "TGACTAGCTAATGCATATCATAAACGATAGTATGTATATATAGCTACGCAAGTA\n"
     ]
    }
   ],
   "source": [
    "print (my_dna)\n",
    "#compliment the bases\n",
    "#A to T\n",
    "com1=my_dna.replace('A','t')\n",
    "#C to G\n",
    "com2=com1.replace('C','g')\n",
    "#G to C\n",
    "com3=com2.replace('G','c')\n",
    "#T to A\n",
    "com4=com3.replace('T','a')\n",
    "#capitalize the bases\n",
    "print (com4.upper())\n"
   ]
  },
  {
   "cell_type": "code",
   "execution_count": 27,
   "metadata": {
    "collapsed": false
   },
   "outputs": [
    {
     "name": "stdout",
     "output_type": "stream",
     "text": [
      "The first fragment is 22nt long.\n",
      "The second is 33nt long.\n"
     ]
    }
   ],
   "source": [
    "rst_dna= \"ACTGATCGATTACGTATAGTAGAATTCTATCATACATATATATCGATGCGTTCAT\"\n",
    "rst_site= 'GAATTC'\n",
    "rst_length =len(rst_dna)\n",
    "\n",
    "#locate the restriction site\n",
    "rst_start= rst_dna.find(rst_site)\n",
    "#calculate fragment lengths\n",
    "frag1= rst_start+1\n",
    "frag2= rst_length-frag1\n",
    "\n",
    "print ('The first fragment is '+str(frag1)+'nt long.')\n",
    "print ('The second is '+str(frag2)+'nt long.')\n",
    "\n"
   ]
  },
  {
   "cell_type": "code",
   "execution_count": 34,
   "metadata": {
    "collapsed": false
   },
   "outputs": [
    {
     "name": "stdout",
     "output_type": "stream",
     "text": [
      "ATCGATCGATCGATCGACTGACTAGTCATAGCTATGCATGTAGCTACTCGATCGATCGATCGATCATCGATCGATATCGATGCATCGACTACTAT\n"
     ]
    }
   ],
   "source": [
    "gen_dna='ATCGATCGATCGATCGACTGACTAGTCATAGCTATGCATGTAGCTACTCGATCGATCGATCGATCGATCGATCGATCGATCGATCATGCTATCATCGATCGATATCGATGCATCGACTACTAT'\n",
    "\n",
    "#extract first exon\n",
    "exon1= (gen_dna[0:62])\n",
    "#extract second exon\n",
    "exon2= (gen_dna[90:500])\n",
    "\n",
    "#concatenate exons\n",
    "print (exon1+exon2)"
   ]
  },
  {
   "cell_type": "code",
   "execution_count": 35,
   "metadata": {
    "collapsed": false
   },
   "outputs": [
    {
     "name": "stdout",
     "output_type": "stream",
     "text": [
      "77.23577235772358% of this sequence is coding.\n"
     ]
    }
   ],
   "source": [
    "seq_len= len(gen_dna)\n",
    "\n",
    "#get lengths of exons\n",
    "ex_len1= len(exon1)\n",
    "ex_len2= len(exon2)\n",
    "#calculate\n",
    "frac_code= (((ex_len1+ex_len2)/seq_len)*100)\n",
    "\n",
    "print (str(frac_code)+'% of this sequence is coding.')\n"
   ]
  },
  {
   "cell_type": "code",
   "execution_count": 39,
   "metadata": {
    "collapsed": false
   },
   "outputs": [
    {
     "name": "stdout",
     "output_type": "stream",
     "text": [
      "ATCGATCGATCGATCGACTGACTAGTCATAGCTATGCATGTAGCTACTCGATCGATCGATCGatcgatcgatcgatcgatcgatcatgctATCATCGATCGATATCGATGCATCGACTACTAT\n"
     ]
    }
   ],
   "source": [
    "#set in length of intron and make lowercase\n",
    "intron =(gen_dna[62:90].lower())\n",
    "\n",
    "#concatenate\n",
    "print (exon1+intron+exon2)"
   ]
  },
  {
   "cell_type": "code",
   "execution_count": null,
   "metadata": {
    "collapsed": true
   },
   "outputs": [],
   "source": []
  }
 ],
 "metadata": {
  "kernelspec": {
   "display_name": "Python 3",
   "language": "python",
   "name": "python3"
  },
  "language_info": {
   "codemirror_mode": {
    "name": "ipython",
    "version": 3
   },
   "file_extension": ".py",
   "mimetype": "text/x-python",
   "name": "python",
   "nbconvert_exporter": "python",
   "pygments_lexer": "ipython3",
   "version": "3.6.0"
  }
 },
 "nbformat": 4,
 "nbformat_minor": 2
}
