{
 "cells": [
  {
   "cell_type": "code",
   "execution_count": 15,
   "metadata": {
    "collapsed": false
   },
   "outputs": [
    {
     "name": "stdout",
     "output_type": "stream",
     "text": [
      "TLDRSLASIDRSRL*RMTIAI\n"
     ]
    }
   ],
   "source": [
    "#store genetic code in dictionary\n",
    "aa=\"FFLLSSSSYY**CC*WLLLLPPPPHHQQRRRRIIIMTTTTNNKKSSRRVVVVAAAADDEEGGGG\"\n",
    "dna=\"ACTCTCGATCGATCGCTAGCTAGCATCGATCGATCGAGGCTATAGCGGATGACTATAGCGATC\"\n",
    "\n",
    "dna=dna.upper()\n",
    "\n",
    "count=0\n",
    "code={}\n",
    "for base1 in ['T','C','A','G']:\n",
    "    for base2 in['T','C','A','G']:\n",
    "        for base3 in['T','C','A','G']:\n",
    "            codon=base1+base2+base3\n",
    "            code[codon]=aa[count]\n",
    "            count+=1\n",
    "            #print (aa[count])\n",
    "#print (code['ACT'])\n",
    "#print (codon)\n",
    "\n",
    "#read in the dna by codons\n",
    "protein=''\n",
    "nuc_count=0\n",
    "for start in range(0,len(dna),3):\n",
    "    trinuc=dna[start:start+3]\n",
    "    protein=protein+code[trinuc]\n",
    "print (protein)\n"
   ]
  },
  {
   "cell_type": "code",
   "execution_count": null,
   "metadata": {
    "collapsed": true
   },
   "outputs": [],
   "source": []
  }
 ],
 "metadata": {
  "kernelspec": {
   "display_name": "Python 3",
   "language": "python",
   "name": "python3"
  },
  "language_info": {
   "codemirror_mode": {
    "name": "ipython",
    "version": 3
   },
   "file_extension": ".py",
   "mimetype": "text/x-python",
   "name": "python",
   "nbconvert_exporter": "python",
   "pygments_lexer": "ipython3",
   "version": "3.6.0"
  }
 },
 "nbformat": 4,
 "nbformat_minor": 2
}
