{
 "cells": [
  {
   "cell_type": "code",
   "execution_count": 14,
   "metadata": {
    "collapsed": false
   },
   "outputs": [
    {
     "name": "stdout",
     "output_type": "stream",
     "text": [
      "43\n",
      "38\n",
      "49\n",
      "34\n",
      "47\n"
     ]
    }
   ],
   "source": [
    "file=open ('input.txt')\n",
    "\n",
    "#print lines to file\n",
    "new_file=open('output.txt','w')\n",
    "for line in file:\n",
    "    untrimmed=len(line)\n",
    "    sequence=line[14:untrimmed]\n",
    "    #print (sequence)\n",
    "    \n",
    "    new_file.write(sequence)\n",
    "#print length of line\n",
    "    print (len(sequence))\n",
    "#close the files\n",
    "file.close()\n",
    "new_file.close()"
   ]
  },
  {
   "cell_type": "code",
   "execution_count": 43,
   "metadata": {
    "collapsed": false
   },
   "outputs": [
    {
     "name": "stdout",
     "output_type": "stream",
     "text": [
      "TCGATCGATCGACTGACTAGTCATAGCTATGCATGTAGCTACTCGATCGATCG\n",
      "TCGATCGATCGACTGACTAGTCATAGCTATGCATGTAGCTACTCGATCGATCGCGATCGATCGATCATGCTATCATCGATCGATATCGATGCATCGACTACTAT\n",
      "\n",
      "TCGATCGATCGACTGACTAGTCATAGCTATGCATGTAGCTACTCGATCGATCGCGATCGATCGATCATGCTATCATCGATCGATATCGATGCATCGACTACTAT\n",
      "\n",
      "TCGATCGATCGACTGACTAGTCATAGCTATGCATGTAGCTACTCGATCGATCGCGATCGATCGATCATGCTATCATCGATCGATATCGATGCATCGACTACTAT\n",
      "\n"
     ]
    }
   ],
   "source": [
    "#open the files\n",
    "positions=open('exons.txt')\n",
    "dna=open('genomic_dna.txt').read()\n",
    "coding=''\n",
    "#get exon start and stop sites\n",
    "for line in positions:\n",
    "    sites=line.split(\",\")\n",
    "    start=int(sites[0])\n",
    "    stop=int(sites[1])\n",
    "    #print(start)\n",
    "    #print(stop)\n",
    "#extract exons from dna\n",
    "    exon=dna[start:stop]\n",
    "#concatenate exons\n",
    "    coding=coding+exon\n",
    "    print (coding)\n",
    "#save coding sequence to a file\n",
    "code_seq=open('coding_sequence.txt','w')\n",
    "code_seq.write(coding)\n",
    "\n",
    "#close the files\n",
    "positions.close()\n",
    "code_seq.close()\n"
   ]
  },
  {
   "cell_type": "code",
   "execution_count": null,
   "metadata": {
    "collapsed": true
   },
   "outputs": [],
   "source": []
  }
 ],
 "metadata": {
  "kernelspec": {
   "display_name": "Python 3",
   "language": "python",
   "name": "python3"
  },
  "language_info": {
   "codemirror_mode": {
    "name": "ipython",
    "version": 3
   },
   "file_extension": ".py",
   "mimetype": "text/x-python",
   "name": "python",
   "nbconvert_exporter": "python",
   "pygments_lexer": "ipython3",
   "version": "3.6.0"
  }
 },
 "nbformat": 4,
 "nbformat_minor": 2
}
